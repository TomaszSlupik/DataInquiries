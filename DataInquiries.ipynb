{
 "cells": [
  {
   "cell_type": "code",
   "execution_count": null,
   "metadata": {},
   "outputs": [],
   "source": [
    "#%% Odczyt pliku\n",
    "df_xls = spark.read.format(\"com.crealytics.spark.excel\")\\\n",
    ".option(\"header\", \"true\")\\\n",
    ".option(\"dataAddress\", \"Podkat_do testowania_Testujemy!A1\")\\\n",
    ".load(\"/FileTEST/TestTomek/TestyTomka.xlsx\")\n"
   ]
  },
  {
   "cell_type": "code",
   "execution_count": null,
   "metadata": {},
   "outputs": [],
   "source": [
    "#%% Zaczytanie Pandasa\n",
    "df_xls_pd = df_xls.toPandas()\n",
    "test = df_xls_pd \n",
    "print (test)\n"
   ]
  },
  {
   "cell_type": "code",
   "execution_count": null,
   "metadata": {},
   "outputs": [],
   "source": [
    "#%%  Przejście na Sparka\n",
    "test_spark = spark.createDataFrame (test)\n",
    "display (test_spark)\n"
   ]
  },
  {
   "cell_type": "code",
   "execution_count": null,
   "metadata": {},
   "outputs": [],
   "source": [
    "#%%  Widok Tymczasowy\n",
    "viewTemp = test_spark.createOrReplaceTempView ('test_spark')\n",
    "display(viewTemp)\n"
   ]
  },
  {
   "cell_type": "code",
   "execution_count": null,
   "metadata": {},
   "outputs": [],
   "source": [
    "#%% Odczyt sql – widok tymczasowy\n",
    "%sql \n",
    "select * from test_spark\n"
   ]
  },
  {
   "cell_type": "code",
   "execution_count": null,
   "metadata": {},
   "outputs": [],
   "source": [
    "#%% Grupowanie\n",
    "mean = test.groupby('KATEGORIA_PRODUKTÓW').count()\n",
    "print (mean)\n"
   ]
  },
  {
   "cell_type": "code",
   "execution_count": null,
   "metadata": {},
   "outputs": [],
   "source": [
    "#%% warunki\n",
    "chocolate = test [(test['PODKATEGORIA'] == 'CZEKOLADA MLECZNA') & (test['KATEGORIA_PRODUKTÓW'] == 'Słodycze')]\n",
    "print (chocolate)\n"
   ]
  },
  {
   "cell_type": "code",
   "execution_count": null,
   "metadata": {},
   "outputs": [],
   "source": [
    "#%% Kolejny warunek\n",
    "bars = test [test['PODKATEGORIA']=='BATONY']\n",
    "print (bars)\n"
   ]
  },
  {
   "cell_type": "code",
   "execution_count": null,
   "metadata": {},
   "outputs": [],
   "source": [
    "#%% joiny\n",
    "\n",
    "import Pandas as pd\n",
    "df1 = {\n",
    "    'date': ['2022-03-30', '2022-03-31', '2022-04-01'],\n",
    "    'id': ['001', '002', '003'],\n",
    "    'product': ['Batony', 'Jabłka', 'Napoje']\n",
    "}\n",
    "\n",
    "df2 = {\n",
    "    'date': ['2022-04-01', '2022-04-02', '2022-04-03'], \n",
    "    'id': ['001', '002', '003'], \n",
    "    'product' : ['Owoce morza', 'Słodycze', 'Kebab']\n",
    "}\n",
    "\n",
    "print (df1)\n",
    "print (df2)\n",
    "\n",
    "\n",
    "products_one = pd.DataFrame (df1)\n",
    "products_two = pd.DataFrame (df2)\n",
    "\n",
    "all_products = products_one.join (products_two, how='outer')\n",
    "\n",
    "common_products = products_one.join (products_two, how='inner')\n",
    "\n",
    "\n"
   ]
  },
  {
   "cell_type": "code",
   "execution_count": null,
   "metadata": {},
   "outputs": [],
   "source": [
    "#%% Załadowanie pliku\n",
    "load = spark.read.format(\"com.crealytics.spark.excel\")\\\n",
    ".option(\"header\", \"true\")\\\n",
    ".load(\"/FileTestTomek/ Wynik.xlsm\")\n",
    "load_Pandas = load.toPandas()\n",
    "print (load_Pandas)\n"
   ]
  },
  {
   "cell_type": "code",
   "execution_count": null,
   "metadata": {},
   "outputs": [],
   "source": [
    "#%% Puste wartości\n",
    "empty = load_Pandas [load_Pandas ['Dostawca'].isnull()]\n",
    "print (empty)\n"
   ]
  },
  {
   "cell_type": "code",
   "execution_count": null,
   "metadata": {},
   "outputs": [],
   "source": [
    "#%% top5 sortowanie \n",
    "sortBudget = load_Pandas.nlargest (5,columns='BudzetCalosciowy')\n"
   ]
  },
  {
   "cell_type": "code",
   "execution_count": null,
   "metadata": {},
   "outputs": [],
   "source": [
    "#%%  Po kolumnie \n",
    "load_Pandas.sort_values('Typ')\n"
   ]
  },
  {
   "cell_type": "code",
   "execution_count": null,
   "metadata": {},
   "outputs": [],
   "source": [
    "#%% Słodycze\n",
    "candy = load_Pandas [(load_Pandas ['Kategoria] == 'Słodycze')]\n",
    "print (candy)\n"
   ]
  },
  {
   "cell_type": "code",
   "execution_count": null,
   "metadata": {},
   "outputs": [],
   "source": [
    "#%% Grupowanie \n",
    "group = load_Pandas.groupby ('Typ').count()\n",
    "print (group)\n"
   ]
  }
 ],
 "metadata": {
  "language_info": {
   "name": "python"
  },
  "orig_nbformat": 4
 },
 "nbformat": 4,
 "nbformat_minor": 2
}
